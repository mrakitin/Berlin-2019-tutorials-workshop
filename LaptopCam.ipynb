{
 "cells": [
  {
   "cell_type": "code",
   "execution_count": null,
   "metadata": {},
   "outputs": [],
   "source": [
    "%matplotlib inline\n",
    "import cv2\n",
    "import matplotlib.pyplot as plt"
   ]
  },
  {
   "cell_type": "code",
   "execution_count": null,
   "metadata": {},
   "outputs": [],
   "source": [
    "import time\n",
    "import datetime\n",
    "import numpy as np\n",
    "from pathlib import Path"
   ]
  },
  {
   "cell_type": "code",
   "execution_count": null,
   "metadata": {},
   "outputs": [],
   "source": [
    "from ophyd import Device, Component as Cpt, Signal\n",
    "from ophyd.sim import NullStatus, new_uid"
   ]
  },
  {
   "cell_type": "code",
   "execution_count": null,
   "metadata": {},
   "outputs": [],
   "source": [
    "from ophyd.utils import make_dir_tree\n",
    "_ = make_dir_tree(datetime.datetime.now().year, base_path='/tmp/data')"
   ]
  },
  {
   "cell_type": "code",
   "execution_count": null,
   "metadata": {},
   "outputs": [],
   "source": [
    "class LaptopCamFileHandler:\n",
    "    specs = {'laptop_cam'}\n",
    "\n",
    "    def __init__(self, filename):\n",
    "        self._name = filename\n",
    "\n",
    "    def __call__(self):\n",
    "        return np.load(self._name)"
   ]
  },
  {
   "cell_type": "code",
   "execution_count": null,
   "metadata": {},
   "outputs": [],
   "source": [
    "from databroker import Broker, temp_config\n",
    "db = Broker.from_config(temp_config())\n",
    "db.reg.register_handler('laptop_cam', LaptopCamFileHandler, overwrite=True)"
   ]
  },
  {
   "cell_type": "code",
   "execution_count": null,
   "metadata": {},
   "outputs": [],
   "source": [
    "from bluesky.run_engine import RunEngine\n",
    "RE = RunEngine({})\n",
    "token = RE.subscribe(db.insert)"
   ]
  },
  {
   "cell_type": "code",
   "execution_count": null,
   "metadata": {},
   "outputs": [],
   "source": [
    "import bluesky.plans as bp"
   ]
  },
  {
   "cell_type": "code",
   "execution_count": null,
   "metadata": {},
   "outputs": [],
   "source": [
    "class LaptopCam(Device):\n",
    "    image = Cpt(Signal)\n",
    "    \n",
    "    def __init__(self, *args, **kwargs):\n",
    "        super().__init__(*args, **kwargs)\n",
    "        self._resource_id = None\n",
    "        self._npy_file = None\n",
    "        self.det = cv2.VideoCapture(1)\n",
    "        \n",
    "    def trigger(self):\n",
    "        super().trigger()\n",
    "\n",
    "        datum_id = new_uid()\n",
    "        date = datetime.datetime.now()\n",
    "        self._npy_file = Path('/tmp/data') / Path(date.strftime('%Y/%m/%d')) / \\\n",
    "            Path('{}.npy'.format(datum_id))\n",
    "        print(f'npy_file: {self._npy_file}')\n",
    "        \n",
    "        self.det = cv2.VideoCapture(0)\n",
    "        _, frame = self.det.read()\n",
    "        print(frame)\n",
    "\n",
    "        np.save(self._npy_file, cv2.cvtColor(frame, cv2.COLOR_BGR2RGB))\n",
    "        self.image.put(datum_id)\n",
    "        self._resource_id = db.reg.insert_resource('laptop_cam', self._npy_file, {})\n",
    "        db.reg.insert_datum(self._resource_id, datum_id, {})\n",
    "        self.det.release()\n",
    "        time.sleep(1)\n",
    "        return NullStatus()\n",
    "    \n",
    "    def describe(self):\n",
    "        res = super().describe()\n",
    "        res[self.image.name].update(dict(external=\"FILESTORE\"))\n",
    "        return res\n",
    "    \n",
    "    def unstage(self):\n",
    "        super().unstage()\n",
    "        self.det.release()"
   ]
  },
  {
   "cell_type": "code",
   "execution_count": null,
   "metadata": {},
   "outputs": [],
   "source": [
    "lc = LaptopCam(name='lc')"
   ]
  },
  {
   "cell_type": "code",
   "execution_count": null,
   "metadata": {},
   "outputs": [],
   "source": [
    "RE(bp.count([lc], num=3))"
   ]
  },
  {
   "cell_type": "code",
   "execution_count": null,
   "metadata": {},
   "outputs": [],
   "source": [
    "hdr = db[-1]"
   ]
  },
  {
   "cell_type": "code",
   "execution_count": null,
   "metadata": {},
   "outputs": [],
   "source": [
    "hdr.table()"
   ]
  },
  {
   "cell_type": "code",
   "execution_count": null,
   "metadata": {},
   "outputs": [],
   "source": [
    "hdr.fields()"
   ]
  },
  {
   "cell_type": "code",
   "execution_count": null,
   "metadata": {},
   "outputs": [],
   "source": [
    "imgs = np.stack(hdr.data('lc_image'))"
   ]
  },
  {
   "cell_type": "code",
   "execution_count": null,
   "metadata": {},
   "outputs": [],
   "source": [
    "imgs.shape"
   ]
  },
  {
   "cell_type": "code",
   "execution_count": null,
   "metadata": {},
   "outputs": [],
   "source": [
    "plt.imshow(imgs[0])"
   ]
  },
  {
   "cell_type": "code",
   "execution_count": null,
   "metadata": {},
   "outputs": [],
   "source": [
    "plt.imshow(imgs[1])"
   ]
  },
  {
   "cell_type": "code",
   "execution_count": null,
   "metadata": {},
   "outputs": [],
   "source": [
    "plt.imshow(imgs[2])"
   ]
  }
 ],
 "metadata": {
  "kernelspec": {
   "display_name": "Python 3",
   "language": "python",
   "name": "python3"
  },
  "language_info": {
   "codemirror_mode": {
    "name": "ipython",
    "version": 3
   },
   "file_extension": ".py",
   "mimetype": "text/x-python",
   "name": "python",
   "nbconvert_exporter": "python",
   "pygments_lexer": "ipython3",
   "version": "3.6.7"
  }
 },
 "nbformat": 4,
 "nbformat_minor": 2
}
